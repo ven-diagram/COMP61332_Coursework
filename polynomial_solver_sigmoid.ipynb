{
  "nbformat": 4,
  "nbformat_minor": 0,
  "metadata": {
    "colab": {
      "provenance": [],
      "authorship_tag": "ABX9TyNjgKnwsPx+mQ3RG70K6Ux7",
      "include_colab_link": true
    },
    "kernelspec": {
      "name": "python3",
      "display_name": "Python 3"
    },
    "language_info": {
      "name": "python"
    }
  },
  "cells": [
    {
      "cell_type": "markdown",
      "metadata": {
        "id": "view-in-github",
        "colab_type": "text"
      },
      "source": [
        "<a href=\"https://colab.research.google.com/github/ven-diagram/COMP61332_Coursework/blob/main/polynomial_solver_sigmoid.ipynb\" target=\"_parent\"><img src=\"https://colab.research.google.com/assets/colab-badge.svg\" alt=\"Open In Colab\"/></a>"
      ]
    },
    {
      "cell_type": "code",
      "execution_count": 1,
      "metadata": {
        "colab": {
          "base_uri": "https://localhost:8080/"
        },
        "id": "_39Mn9XdVv5x",
        "outputId": "b9afb038-6ee9-4bfa-c919-067afee26ce0"
      },
      "outputs": [
        {
          "output_type": "stream",
          "name": "stdout",
          "text": [
            "Requirement already satisfied: ecos in /usr/local/lib/python3.11/dist-packages (2.0.14)\n",
            "Requirement already satisfied: numpy>=1.6 in /usr/local/lib/python3.11/dist-packages (from ecos) (2.0.2)\n",
            "Requirement already satisfied: scipy>=0.9 in /usr/local/lib/python3.11/dist-packages (from ecos) (1.15.3)\n"
          ]
        }
      ],
      "source": [
        "import numpy as np\n",
        "from mpmath import mp\n",
        "\n",
        "# Change target floating precision here\n",
        "dtype = np.float16"
      ]
    },
    {
      "cell_type": "code",
      "source": [
        "def GetRndInterval(n):\n",
        "\n",
        "  # Finds the previous value in target precision\n",
        "  def get_prec_val(y):\n",
        "    y_fp = dtype(y)\n",
        "    prev = np.nextafter(y_fp, -np.inf, dtype=dtype)\n",
        "    return float(prev)\n",
        "\n",
        "  # Finds succeeding value in target precision\n",
        "  def get_succ_val(y):\n",
        "      y_fp = dtype(y)\n",
        "      nxt = np.nextafter(y_fp, np.inf, dtype=dtype)\n",
        "      return float(nxt)\n",
        "\n",
        "  # Finds the rounding interval by finding the average value between fp64 value and target fp value\n",
        "  def interval_rounding(y):\n",
        "      y_fp = dtype(y)\n",
        "      y64 = float(y)\n",
        "      prev64 = get_prec_val(y_fp)\n",
        "      next64 = get_succ_val(y_fp)\n",
        "\n",
        "      lower_bound = (prev64 + y64) / 2\n",
        "      while (dtype(lower_bound)!= y_fp):\n",
        "        lower_bound = np.nextafter(lower_bound, np.inf, dtype=np.float64)\n",
        "      upper_bound = (y64 + next64) / 2\n",
        "      while (dtype(upper_bound)!= y_fp):\n",
        "        upper_bound = np.nextafter(upper_bound, -np.inf, dtype=np.float64)\n",
        "\n",
        "      return lower_bound, upper_bound\n",
        "\n",
        "  y = dtype(n)\n",
        "  (l, h) = interval_rounding(float(y))\n",
        "  # print(\"Interval rounding to\", y, \"is\", f\"{l:.25f}, {h:.25f}\")\n",
        "  # l_fp = dtype(l)\n",
        "  # h_fp = dtype(h)\n",
        "  # print(f\"l_fp: {l_fp:.17f}, h_float16: {h_fp:.17f}\")\n",
        "  return [l, h]\n",
        "\n",
        "interval = GetRndInterval(0.0)\n",
        "print(interval)"
      ],
      "metadata": {
        "colab": {
          "base_uri": "https://localhost:8080/"
        },
        "id": "3ONHt070WTYt",
        "outputId": "1db0a8ca-8044-411f-ac09-023d1a14db32"
      },
      "execution_count": 8,
      "outputs": [
        {
          "output_type": "stream",
          "name": "stdout",
          "text": [
            "[-2.9802322387695312e-08, 2.9802322387695312e-08]\n"
          ]
        }
      ]
    },
    {
      "cell_type": "code",
      "source": [
        "mp.dps = 64\n",
        "\n",
        "# Uses oracle to compute the sigmoid values\n",
        "def mp_sigmoid(x):\n",
        "  return mp.fdiv(1, mp.fadd(1, mp.exp(mp.fneg(x))))\n",
        "\n",
        "# Uses oracle to compute inverse sigmoid values (for checking)\n",
        "def mp_inv_sigmoid(x):\n",
        "  return mp.log(mp.fdiv(x, mp.fsub(1, x)))\n",
        "\n",
        "# returns the target fp rounded form of sigmoid\n",
        "def sigmoid_float(x):\n",
        "  return dtype(mp_sigmoid(x))"
      ],
      "metadata": {
        "id": "4KLI6rIMbhwY"
      },
      "execution_count": 9,
      "outputs": []
    },
    {
      "cell_type": "code",
      "source": [
        "# To find lower bound of sigmoid domain\n",
        "rnd_interval_0 = GetRndInterval(0)\n",
        "\n",
        "lower_bound = float(mp_inv_sigmoid(rnd_interval_0[1]))\n",
        "\n",
        "# print(f\"{lower_bound: .64f}\")\n",
        "\n",
        "# lower_bound = GetRndInterval(lower_bound)[0]\n",
        "\n",
        "# print(lower_bound)\n",
        "\n",
        "# print(f\"{dtype(mp_sigmoid(lower_bound)): .64f}\")\n",
        "\n",
        "# To find upper bound of sigmoid domain\n",
        "rnd_interval_1 = GetRndInterval(1)\n",
        "\n",
        "upper_bound = float(mp_inv_sigmoid(rnd_interval_1[0]))\n",
        "\n",
        "# print(f\"{upper_bound: .64f}\")\n",
        "\n",
        "# upper_bound = GetRndInterval(upper_bound)[1]\n",
        "\n",
        "# print(upper_bound)\n",
        "\n",
        "# print(f\"{dtype(mp_sigmoid(upper_bound)): .64f}\")\n",
        "\n",
        "print(\"If x <= \", f\"{lower_bound:.54f}\", \", f(x) = 0\")\n",
        "print(\"If x >=\", f\"{upper_bound:.54f}\", \", f(x) = 1\")"
      ],
      "metadata": {
        "colab": {
          "base_uri": "https://localhost:8080/"
        },
        "id": "7N96fOMqbm7-",
        "outputId": "7652d587-b051-486e-e555-2e2a2df8884f"
      },
      "execution_count": 10,
      "outputs": [
        {
          "output_type": "stream",
          "name": "stdout",
          "text": [
            "If x <=  -17.328679484196310767174509237520396709442138671875000000 , f(x) = 0\n",
            "If x >= 8.317521996287169372408243361860513687133789062500000000 , f(x) = 1\n"
          ]
        }
      ]
    },
    {
      "cell_type": "code",
      "source": [
        "def CalcRndIntervals(X):\n",
        "  # Initialize empty list\n",
        "  L = []\n",
        "\n",
        "  for x in X:\n",
        "    # Round the y value to the target fp precision\n",
        "    y = sigmoid_float(x)\n",
        "    # Get rounding interval\n",
        "    I = GetRndInterval(y)\n",
        "\n",
        "    # Check if interval is empty\n",
        "    if I is None or I == []:\n",
        "      return []\n",
        "\n",
        "    # Add pair (x, I) to list\n",
        "    L.append((x, I))\n",
        "\n",
        "  return L\n",
        "\n",
        "# Create values linearly spaced between the domain\n",
        "X = np.linspace(0.0, 8.0, 11)\n",
        "\n",
        "intervals = CalcRndIntervals(X)\n",
        "print(intervals)"
      ],
      "metadata": {
        "colab": {
          "base_uri": "https://localhost:8080/"
        },
        "id": "Pz4mI1eFgZ67",
        "outputId": "19b895e4-f3d9-42a1-a421-dd1dcd786c93"
      },
      "execution_count": 11,
      "outputs": [
        {
          "output_type": "stream",
          "name": "stdout",
          "text": [
            "[(np.float64(0.0), [0.4998779296875, 0.500244140625]), (np.float64(0.8), [np.float64(0.6896972656250001), np.float64(0.6901855468749999)]), (np.float64(1.6), [0.831787109375, 0.832275390625]), (np.float64(2.4000000000000004), [0.916748046875, 0.917236328125]), (np.float64(3.2), [0.960693359375, 0.961181640625]), (np.float64(4.0), [np.float64(0.9816894531250001), np.float64(0.9821777343749999)]), (np.float64(4.800000000000001), [np.float64(0.9914550781250001), np.float64(0.9919433593749999)]), (np.float64(5.6000000000000005), [0.995849609375, 0.996337890625]), (np.float64(6.4), [np.float64(0.9982910156250001), np.float64(0.9987792968749999)]), (np.float64(7.2), [0.998779296875, 0.999267578125]), (np.float64(8.0), [np.float64(0.9992675781250001), np.float64(0.9997558593749999)])]\n"
          ]
        }
      ]
    },
    {
      "cell_type": "code",
      "source": [
        "def log_segments(n, m, num_segments):\n",
        "    # Logarithmic spacing from 0 to 1 (excluding 0)\n",
        "    logs = np.logspace(0, 1, num_segments, base=10.0) - 1  # [0, 9]\n",
        "    logs /= logs[-1]  # Normalize to [0, 1]\n",
        "    values = n + logs * (m - n)\n",
        "    return values  # Include n as first point"
      ],
      "metadata": {
        "id": "M0w-mwbntM7Z"
      },
      "execution_count": 12,
      "outputs": []
    },
    {
      "cell_type": "code",
      "source": [
        "import matplotlib.pyplot as plt\n",
        "# Cut space into logarithmic cuts for correct rounding\n",
        "x = log_segments(np.nextafter(lower_bound, np.inf, dtype=np.float64), 0, 7)\n",
        "print(x)\n",
        "plt.plot(x, np.zeros_like(x), '|', markersize=20)\n",
        "plt.title(\"Logarithmically spaced segment boundaries\")\n",
        "plt.show()"
      ],
      "metadata": {
        "colab": {
          "base_uri": "https://localhost:8080/",
          "height": 487
        },
        "id": "nI_K9dSNtTBj",
        "outputId": "f8d8a387-3c43-499c-dabb-f21c1575e1a0"
      },
      "execution_count": 262,
      "outputs": [
        {
          "output_type": "stream",
          "name": "stdout",
          "text": [
            "[-17.32867948 -16.42797464 -15.10592074 -13.16541098 -10.31713218\n",
            "  -6.13643065   0.        ]\n"
          ]
        },
        {
          "output_type": "display_data",
          "data": {
            "text/plain": [
              "<Figure size 640x480 with 1 Axes>"
            ],
            "image/png": "[encoded data removed]"
          },
          "metadata": {}
        }
      ]
    },
    {
      "cell_type": "code",
      "source": [
        "import numpy as np\n",
        "import cvxpy as cp\n",
        "\n",
        "def GenPoly(intervals, d):\n",
        "    X = np.array([iv[0] for iv in intervals])\n",
        "    L = np.array([iv[1][0] for iv in intervals])\n",
        "    H = np.array([iv[1][1] for iv in intervals])\n",
        "\n",
        "\n",
        "    # print(X, L, H)\n",
        "\n",
        "    # Assertions for inputs\n",
        "    n = len(X)\n",
        "    assert len(L) == n and len(H) == n, \"X, L, and H must be same length\"\n",
        "    assert d >= 0, \"Degree must be non-negative\"\n",
        "\n",
        "    # Polynomial coefficients: a_0 + a_1 x + a_2 x^2 + ... + a_d x^d\n",
        "    coeffs = cp.Variable(d + 1)\n",
        "\n",
        "    # Build design matrix for P(x_i)\n",
        "    V = np.vander(X, d + 1, increasing=True)  # shape (n, d+1)\n",
        "\n",
        "    # Polynomial values at points X\n",
        "    P_vals = V @ coeffs\n",
        "\n",
        "    # The Constraints l_i <= P(x_i) <= h_i\n",
        "    constraints = [P_vals >= L, P_vals <= H]\n",
        "\n",
        "    # Minimisation problem for convex graph\n",
        "    objective = cp.Minimize(cp.norm(coeffs, 10))  # Optional: regularize coefficients\n",
        "\n",
        "    # Solve using SCS (don't use clarabel)\n",
        "    prob = cp.Problem(objective, constraints)\n",
        "    prob.solve(solver = cp.SCS)\n",
        "\n",
        "    if prob.status != \"optimal\":\n",
        "        raise ValueError(\"No feasible polynomial found.\")\n",
        "\n",
        "    # Value error if npthing is found\n",
        "    if prob.status != \"optimal\":\n",
        "        raise ValueError(\"No feasible polynomial found.\")\n",
        "\n",
        "    # Return as numpy poly1d for evalutation\n",
        "    return np.poly1d(coeffs.value[::-1])  # return as numpy poly1d for evaluation"
      ],
      "metadata": {
        "id": "Oyhgsrk2vw-D"
      },
      "execution_count": 250,
      "outputs": []
    },
    {
      "cell_type": "code",
      "source": [
        "# Create values linearly spaced between the cut (linpspace not as effective as logspace)\n",
        "X = np.linspace(x[0], x[1], 8)\n",
        "\n",
        "intervals = CalcRndIntervals(X)\n",
        "# print(dtype(intervals[0][1][0]))\n",
        "# print(f\"{X[0] :25f}\", f\"{sigmoid_float(X[0]) :.25f}\")"
      ],
      "metadata": {
        "id": "UzINj-i1PKYi"
      },
      "execution_count": 128,
      "outputs": []
    },
    {
      "cell_type": "code",
      "source": [
        "cut_l = 0\n",
        "cut_h = 1\n",
        "\n",
        "def PolynomialApproximation(cut_l, cut_h, n):\n",
        "\n",
        "  # Break cut into logarithmic segements\n",
        "  X = log_segments(x[cut_l], x[cut_h], n)\n",
        "  intervals = CalcRndIntervals(X)\n",
        "\n",
        "  d = 1\n",
        "  P = None\n",
        "\n",
        "  while d < 12:\n",
        "      try:\n",
        "          P = GenPoly(intervals, d=d)\n",
        "\n",
        "          # Evaluate the polynomial at X and compare with expected dtype values\n",
        "          float_X = np.array([dtype(P(i)) for i in X])\n",
        "          sigmoid_float_X = np.array([sigmoid_float(i) for i in X])\n",
        "\n",
        "          # Check if all approximations match exactly in floating point\n",
        "          if np.all(float_X == sigmoid_float_X):\n",
        "              print(f\"Match found at degree {d}\")\n",
        "              break  # Exit the loop — we found a matching polynomial\n",
        "\n",
        "\n",
        "      except ValueError:\n",
        "          print(f\"Degree {d} not working\")\n",
        "          d += 1\n",
        "\n",
        "  return P\n",
        "\n",
        "P = PolynomialApproximation(cut_l, cut_h, 200)\n",
        "print(P)"
      ],
      "metadata": {
        "colab": {
          "base_uri": "https://localhost:8080/"
        },
        "id": "6e6MjaMyMgDj",
        "outputId": "8a006aaa-f845-4083-86a4-686cbb07bcd8"
      },
      "execution_count": 269,
      "outputs": [
        {
          "output_type": "stream",
          "name": "stdout",
          "text": [
            "Match found at degree 1\n",
            " \n",
            "-3.078e-09 x + 2.981e-10\n"
          ]
        }
      ]
    },
    {
      "cell_type": "code",
      "source": [
        "import numpy as np\n",
        "import matplotlib.pyplot as plt\n",
        "\n",
        "# Generate a smooth range of x values for plotting\n",
        "x_vals = np.linspace(x[cut_l], x[cut_h], 500)\n",
        "y_vals = P(x_vals)\n",
        "print(y_vals)\n",
        "log_vals = [mp_sigmoid(x) for x in x_vals]\n",
        "y_vals_rnd = dtype(y_vals)\n",
        "print(y_vals_rnd)\n",
        "log_vals_rnd = [sigmoid_float(x) for x in x_vals]\n",
        "print(X)\n",
        "\n",
        "# Plot the polynomial curve\n",
        "plt.plot(x_vals, y_vals, label='Fitted Polynomial', color='blue')\n",
        "plt.plot(x_vals, log_vals, label='Log', color='green')\n",
        "\n",
        "# Axis and legend\n",
        "plt.title('Polynomial within Constraint Bounds')\n",
        "plt.xlabel('x')\n",
        "plt.ylabel('P(x)')\n",
        "plt.legend()\n",
        "plt.grid(True)\n",
        "plt.show()\n",
        "\n",
        "# Plot the polynomial curve\n",
        "plt.plot(x_vals, y_vals_rnd, label='Fitted Polynomial', color='blue')\n",
        "plt.plot(x_vals, log_vals_rnd, label='Log', color='green')\n",
        "# plt.scatter(X, dtype(P(X)))\n",
        "\n",
        "# Axis and legend\n",
        "plt.title('Polynomial within Constraint Bounds')\n",
        "plt.xlabel('x')\n",
        "plt.ylabel('P(x)')\n",
        "plt.legend()\n",
        "plt.grid(True)\n",
        "plt.show()\n"
      ],
      "metadata": {
        "colab": {
          "base_uri": "https://localhost:8080/",
          "height": 1000
        },
        "id": "9_TgCH-XYnCg",
        "outputId": "eddda277-cd3e-4be7-a355-ada736d92f89"
      },
      "execution_count": 270,
      "outputs": [
        {
          "output_type": "stream",
          "name": "stdout",
          "text": [
            "[5.36331875e-08 5.36276320e-08 5.36220764e-08 5.36165208e-08\n",
            " 5.36109652e-08 5.36054096e-08 5.35998541e-08 5.35942985e-08\n",
            " 5.35887429e-08 5.35831873e-08 5.35776318e-08 5.35720762e-08\n",
            " 5.35665206e-08 5.35609650e-08 5.35554094e-08 5.35498539e-08\n",
            " 5.35442983e-08 5.35387427e-08 5.35331871e-08 5.35276315e-08\n",
            " 5.35220760e-08 5.35165204e-08 5.35109648e-08 5.35054092e-08\n",
            " 5.34998536e-08 5.34942981e-08 5.34887425e-08 5.34831869e-08\n",
            " 5.34776313e-08 5.34720758e-08 5.34665202e-08 5.34609646e-08\n",
            " 5.34554090e-08 5.34498534e-08 5.34442979e-08 5.34387423e-08\n",
            " 5.34331867e-08 5.34276311e-08 5.34220755e-08 5.34165200e-08\n",
            " 5.34109644e-08 5.34054088e-08 5.33998532e-08 5.33942976e-08\n",
            " 5.33887421e-08 5.33831865e-08 5.33776309e-08 5.33720753e-08\n",
            " 5.33665197e-08 5.33609642e-08 5.33554086e-08 5.33498530e-08\n",
            " 5.33442974e-08 5.33387419e-08 5.33331863e-08 5.33276307e-08\n",
            " 5.33220751e-08 5.33165195e-08 5.33109640e-08 5.33054084e-08\n",
            " 5.32998528e-08 5.32942972e-08 5.32887416e-08 5.32831861e-08\n",
            " 5.32776305e-08 5.32720749e-08 5.32665193e-08 5.32609637e-08\n",
            " 5.32554082e-08 5.32498526e-08 5.32442970e-08 5.32387414e-08\n",
            " 5.32331859e-08 5.32276303e-08 5.32220747e-08 5.32165191e-08\n",
            " 5.32109635e-08 5.32054080e-08 5.31998524e-08 5.31942968e-08\n",
            " 5.31887412e-08 5.31831856e-08 5.31776301e-08 5.31720745e-08\n",
            " 5.31665189e-08 5.31609633e-08 5.31554077e-08 5.31498522e-08\n",
            " 5.31442966e-08 5.31387410e-08 5.31331854e-08 5.31276298e-08\n",
            " 5.31220743e-08 5.31165187e-08 5.31109631e-08 5.31054075e-08\n",
            " 5.30998520e-08 5.30942964e-08 5.30887408e-08 5.30831852e-08\n",
            " 5.30776296e-08 5.30720741e-08 5.30665185e-08 5.30609629e-08\n",
            " 5.30554073e-08 5.30498517e-08 5.30442962e-08 5.30387406e-08\n",
            " 5.30331850e-08 5.30276294e-08 5.30220738e-08 5.30165183e-08\n",
            " 5.30109627e-08 5.30054071e-08 5.29998515e-08 5.29942960e-08\n",
            " 5.29887404e-08 5.29831848e-08 5.29776292e-08 5.29720736e-08\n",
            " 5.29665181e-08 5.29609625e-08 5.29554069e-08 5.29498513e-08\n",
            " 5.29442957e-08 5.29387402e-08 5.29331846e-08 5.29276290e-08\n",
            " 5.29220734e-08 5.29165178e-08 5.29109623e-08 5.29054067e-08\n",
            " 5.28998511e-08 5.28942955e-08 5.28887399e-08 5.28831844e-08\n",
            " 5.28776288e-08 5.28720732e-08 5.28665176e-08 5.28609621e-08\n",
            " 5.28554065e-08 5.28498509e-08 5.28442953e-08 5.28387397e-08\n",
            " 5.28331842e-08 5.28276286e-08 5.28220730e-08 5.28165174e-08\n",
            " 5.28109618e-08 5.28054063e-08 5.27998507e-08 5.27942951e-08\n",
            " 5.27887395e-08 5.27831839e-08 5.27776284e-08 5.27720728e-08\n",
            " 5.27665172e-08 5.27609616e-08 5.27554061e-08 5.27498505e-08\n",
            " 5.27442949e-08 5.27387393e-08 5.27331837e-08 5.27276282e-08\n",
            " 5.27220726e-08 5.27165170e-08 5.27109614e-08 5.27054058e-08\n",
            " 5.26998503e-08 5.26942947e-08 5.26887391e-08 5.26831835e-08\n",
            " 5.26776279e-08 5.26720724e-08 5.26665168e-08 5.26609612e-08\n",
            " 5.26554056e-08 5.26498500e-08 5.26442945e-08 5.26387389e-08\n",
            " 5.26331833e-08 5.26276277e-08 5.26220722e-08 5.26165166e-08\n",
            " 5.26109610e-08 5.26054054e-08 5.25998498e-08 5.25942943e-08\n",
            " 5.25887387e-08 5.25831831e-08 5.25776275e-08 5.25720719e-08\n",
            " 5.25665164e-08 5.25609608e-08 5.25554052e-08 5.25498496e-08\n",
            " 5.25442940e-08 5.25387385e-08 5.25331829e-08 5.25276273e-08\n",
            " 5.25220717e-08 5.25165162e-08 5.25109606e-08 5.25054050e-08\n",
            " 5.24998494e-08 5.24942938e-08 5.24887383e-08 5.24831827e-08\n",
            " 5.24776271e-08 5.24720715e-08 5.24665159e-08 5.24609604e-08\n",
            " 5.24554048e-08 5.24498492e-08 5.24442936e-08 5.24387380e-08\n",
            " 5.24331825e-08 5.24276269e-08 5.24220713e-08 5.24165157e-08\n",
            " 5.24109601e-08 5.24054046e-08 5.23998490e-08 5.23942934e-08\n",
            " 5.23887378e-08 5.23831823e-08 5.23776267e-08 5.23720711e-08\n",
            " 5.23665155e-08 5.23609599e-08 5.23554044e-08 5.23498488e-08\n",
            " 5.23442932e-08 5.23387376e-08 5.23331820e-08 5.23276265e-08\n",
            " 5.23220709e-08 5.23165153e-08 5.23109597e-08 5.23054041e-08\n",
            " 5.22998486e-08 5.22942930e-08 5.22887374e-08 5.22831818e-08\n",
            " 5.22776263e-08 5.22720707e-08 5.22665151e-08 5.22609595e-08\n",
            " 5.22554039e-08 5.22498484e-08 5.22442928e-08 5.22387372e-08\n",
            " 5.22331816e-08 5.22276260e-08 5.22220705e-08 5.22165149e-08\n",
            " 5.22109593e-08 5.22054037e-08 5.21998481e-08 5.21942926e-08\n",
            " 5.21887370e-08 5.21831814e-08 5.21776258e-08 5.21720703e-08\n",
            " 5.21665147e-08 5.21609591e-08 5.21554035e-08 5.21498479e-08\n",
            " 5.21442924e-08 5.21387368e-08 5.21331812e-08 5.21276256e-08\n",
            " 5.21220700e-08 5.21165145e-08 5.21109589e-08 5.21054033e-08\n",
            " 5.20998477e-08 5.20942921e-08 5.20887366e-08 5.20831810e-08\n",
            " 5.20776254e-08 5.20720698e-08 5.20665142e-08 5.20609587e-08\n",
            " 5.20554031e-08 5.20498475e-08 5.20442919e-08 5.20387364e-08\n",
            " 5.20331808e-08 5.20276252e-08 5.20220696e-08 5.20165140e-08\n",
            " 5.20109585e-08 5.20054029e-08 5.19998473e-08 5.19942917e-08\n",
            " 5.19887361e-08 5.19831806e-08 5.19776250e-08 5.19720694e-08\n",
            " 5.19665138e-08 5.19609582e-08 5.19554027e-08 5.19498471e-08\n",
            " 5.19442915e-08 5.19387359e-08 5.19331804e-08 5.19276248e-08\n",
            " 5.19220692e-08 5.19165136e-08 5.19109580e-08 5.19054025e-08\n",
            " 5.18998469e-08 5.18942913e-08 5.18887357e-08 5.18831801e-08\n",
            " 5.18776246e-08 5.18720690e-08 5.18665134e-08 5.18609578e-08\n",
            " 5.18554022e-08 5.18498467e-08 5.18442911e-08 5.18387355e-08\n",
            " 5.18331799e-08 5.18276243e-08 5.18220688e-08 5.18165132e-08\n",
            " 5.18109576e-08 5.18054020e-08 5.17998465e-08 5.17942909e-08\n",
            " 5.17887353e-08 5.17831797e-08 5.17776241e-08 5.17720686e-08\n",
            " 5.17665130e-08 5.17609574e-08 5.17554018e-08 5.17498462e-08\n",
            " 5.17442907e-08 5.17387351e-08 5.17331795e-08 5.17276239e-08\n",
            " 5.17220683e-08 5.17165128e-08 5.17109572e-08 5.17054016e-08\n",
            " 5.16998460e-08 5.16942905e-08 5.16887349e-08 5.16831793e-08\n",
            " 5.16776237e-08 5.16720681e-08 5.16665126e-08 5.16609570e-08\n",
            " 5.16554014e-08 5.16498458e-08 5.16442902e-08 5.16387347e-08\n",
            " 5.16331791e-08 5.16276235e-08 5.16220679e-08 5.16165123e-08\n",
            " 5.16109568e-08 5.16054012e-08 5.15998456e-08 5.15942900e-08\n",
            " 5.15887344e-08 5.15831789e-08 5.15776233e-08 5.15720677e-08\n",
            " 5.15665121e-08 5.15609566e-08 5.15554010e-08 5.15498454e-08\n",
            " 5.15442898e-08 5.15387342e-08 5.15331787e-08 5.15276231e-08\n",
            " 5.15220675e-08 5.15165119e-08 5.15109563e-08 5.15054008e-08\n",
            " 5.14998452e-08 5.14942896e-08 5.14887340e-08 5.14831784e-08\n",
            " 5.14776229e-08 5.14720673e-08 5.14665117e-08 5.14609561e-08\n",
            " 5.14554006e-08 5.14498450e-08 5.14442894e-08 5.14387338e-08\n",
            " 5.14331782e-08 5.14276227e-08 5.14220671e-08 5.14165115e-08\n",
            " 5.14109559e-08 5.14054003e-08 5.13998448e-08 5.13942892e-08\n",
            " 5.13887336e-08 5.13831780e-08 5.13776224e-08 5.13720669e-08\n",
            " 5.13665113e-08 5.13609557e-08 5.13554001e-08 5.13498445e-08\n",
            " 5.13442890e-08 5.13387334e-08 5.13331778e-08 5.13276222e-08\n",
            " 5.13220667e-08 5.13165111e-08 5.13109555e-08 5.13053999e-08\n",
            " 5.12998443e-08 5.12942888e-08 5.12887332e-08 5.12831776e-08\n",
            " 5.12776220e-08 5.12720664e-08 5.12665109e-08 5.12609553e-08\n",
            " 5.12553997e-08 5.12498441e-08 5.12442885e-08 5.12387330e-08\n",
            " 5.12331774e-08 5.12276218e-08 5.12220662e-08 5.12165107e-08\n",
            " 5.12109551e-08 5.12053995e-08 5.11998439e-08 5.11942883e-08\n",
            " 5.11887328e-08 5.11831772e-08 5.11776216e-08 5.11720660e-08\n",
            " 5.11665104e-08 5.11609549e-08 5.11553993e-08 5.11498437e-08\n",
            " 5.11442881e-08 5.11387325e-08 5.11331770e-08 5.11276214e-08\n",
            " 5.11220658e-08 5.11165102e-08 5.11109546e-08 5.11053991e-08\n",
            " 5.10998435e-08 5.10942879e-08 5.10887323e-08 5.10831768e-08\n",
            " 5.10776212e-08 5.10720656e-08 5.10665100e-08 5.10609544e-08\n",
            " 5.10553989e-08 5.10498433e-08 5.10442877e-08 5.10387321e-08\n",
            " 5.10331765e-08 5.10276210e-08 5.10220654e-08 5.10165098e-08\n",
            " 5.10109542e-08 5.10053986e-08 5.09998431e-08 5.09942875e-08\n",
            " 5.09887319e-08 5.09831763e-08 5.09776208e-08 5.09720652e-08\n",
            " 5.09665096e-08 5.09609540e-08 5.09553984e-08 5.09498429e-08\n",
            " 5.09442873e-08 5.09387317e-08 5.09331761e-08 5.09276205e-08\n",
            " 5.09220650e-08 5.09165094e-08 5.09109538e-08 5.09053982e-08\n",
            " 5.08998426e-08 5.08942871e-08 5.08887315e-08 5.08831759e-08\n",
            " 5.08776203e-08 5.08720648e-08 5.08665092e-08 5.08609536e-08]\n",
            "[6.e-08 6.e-08 6.e-08 6.e-08 6.e-08 6.e-08 6.e-08 6.e-08 6.e-08 6.e-08\n",
            " 6.e-08 6.e-08 6.e-08 6.e-08 6.e-08 6.e-08 6.e-08 6.e-08 6.e-08 6.e-08\n",
            " 6.e-08 6.e-08 6.e-08 6.e-08 6.e-08 6.e-08 6.e-08 6.e-08 6.e-08 6.e-08\n",
            " 6.e-08 6.e-08 6.e-08 6.e-08 6.e-08 6.e-08 6.e-08 6.e-08 6.e-08 6.e-08\n",
            " 6.e-08 6.e-08 6.e-08 6.e-08 6.e-08 6.e-08 6.e-08 6.e-08 6.e-08 6.e-08\n",
            " 6.e-08 6.e-08 6.e-08 6.e-08 6.e-08 6.e-08 6.e-08 6.e-08 6.e-08 6.e-08\n",
            " 6.e-08 6.e-08 6.e-08 6.e-08 6.e-08 6.e-08 6.e-08 6.e-08 6.e-08 6.e-08\n",
            " 6.e-08 6.e-08 6.e-08 6.e-08 6.e-08 6.e-08 6.e-08 6.e-08 6.e-08 6.e-08\n",
            " 6.e-08 6.e-08 6.e-08 6.e-08 6.e-08 6.e-08 6.e-08 6.e-08 6.e-08 6.e-08\n",
            " 6.e-08 6.e-08 6.e-08 6.e-08 6.e-08 6.e-08 6.e-08 6.e-08 6.e-08 6.e-08\n",
            " 6.e-08 6.e-08 6.e-08 6.e-08 6.e-08 6.e-08 6.e-08 6.e-08 6.e-08 6.e-08\n",
            " 6.e-08 6.e-08 6.e-08 6.e-08 6.e-08 6.e-08 6.e-08 6.e-08 6.e-08 6.e-08\n",
            " 6.e-08 6.e-08 6.e-08 6.e-08 6.e-08 6.e-08 6.e-08 6.e-08 6.e-08 6.e-08\n",
            " 6.e-08 6.e-08 6.e-08 6.e-08 6.e-08 6.e-08 6.e-08 6.e-08 6.e-08 6.e-08\n",
            " 6.e-08 6.e-08 6.e-08 6.e-08 6.e-08 6.e-08 6.e-08 6.e-08 6.e-08 6.e-08\n",
            " 6.e-08 6.e-08 6.e-08 6.e-08 6.e-08 6.e-08 6.e-08 6.e-08 6.e-08 6.e-08\n",
            " 6.e-08 6.e-08 6.e-08 6.e-08 6.e-08 6.e-08 6.e-08 6.e-08 6.e-08 6.e-08\n",
            " 6.e-08 6.e-08 6.e-08 6.e-08 6.e-08 6.e-08 6.e-08 6.e-08 6.e-08 6.e-08\n",
            " 6.e-08 6.e-08 6.e-08 6.e-08 6.e-08 6.e-08 6.e-08 6.e-08 6.e-08 6.e-08\n",
            " 6.e-08 6.e-08 6.e-08 6.e-08 6.e-08 6.e-08 6.e-08 6.e-08 6.e-08 6.e-08\n",
            " 6.e-08 6.e-08 6.e-08 6.e-08 6.e-08 6.e-08 6.e-08 6.e-08 6.e-08 6.e-08\n",
            " 6.e-08 6.e-08 6.e-08 6.e-08 6.e-08 6.e-08 6.e-08 6.e-08 6.e-08 6.e-08\n",
            " 6.e-08 6.e-08 6.e-08 6.e-08 6.e-08 6.e-08 6.e-08 6.e-08 6.e-08 6.e-08\n",
            " 6.e-08 6.e-08 6.e-08 6.e-08 6.e-08 6.e-08 6.e-08 6.e-08 6.e-08 6.e-08\n",
            " 6.e-08 6.e-08 6.e-08 6.e-08 6.e-08 6.e-08 6.e-08 6.e-08 6.e-08 6.e-08\n",
            " 6.e-08 6.e-08 6.e-08 6.e-08 6.e-08 6.e-08 6.e-08 6.e-08 6.e-08 6.e-08\n",
            " 6.e-08 6.e-08 6.e-08 6.e-08 6.e-08 6.e-08 6.e-08 6.e-08 6.e-08 6.e-08\n",
            " 6.e-08 6.e-08 6.e-08 6.e-08 6.e-08 6.e-08 6.e-08 6.e-08 6.e-08 6.e-08\n",
            " 6.e-08 6.e-08 6.e-08 6.e-08 6.e-08 6.e-08 6.e-08 6.e-08 6.e-08 6.e-08\n",
            " 6.e-08 6.e-08 6.e-08 6.e-08 6.e-08 6.e-08 6.e-08 6.e-08 6.e-08 6.e-08\n",
            " 6.e-08 6.e-08 6.e-08 6.e-08 6.e-08 6.e-08 6.e-08 6.e-08 6.e-08 6.e-08\n",
            " 6.e-08 6.e-08 6.e-08 6.e-08 6.e-08 6.e-08 6.e-08 6.e-08 6.e-08 6.e-08\n",
            " 6.e-08 6.e-08 6.e-08 6.e-08 6.e-08 6.e-08 6.e-08 6.e-08 6.e-08 6.e-08\n",
            " 6.e-08 6.e-08 6.e-08 6.e-08 6.e-08 6.e-08 6.e-08 6.e-08 6.e-08 6.e-08\n",
            " 6.e-08 6.e-08 6.e-08 6.e-08 6.e-08 6.e-08 6.e-08 6.e-08 6.e-08 6.e-08\n",
            " 6.e-08 6.e-08 6.e-08 6.e-08 6.e-08 6.e-08 6.e-08 6.e-08 6.e-08 6.e-08\n",
            " 6.e-08 6.e-08 6.e-08 6.e-08 6.e-08 6.e-08 6.e-08 6.e-08 6.e-08 6.e-08\n",
            " 6.e-08 6.e-08 6.e-08 6.e-08 6.e-08 6.e-08 6.e-08 6.e-08 6.e-08 6.e-08\n",
            " 6.e-08 6.e-08 6.e-08 6.e-08 6.e-08 6.e-08 6.e-08 6.e-08 6.e-08 6.e-08\n",
            " 6.e-08 6.e-08 6.e-08 6.e-08 6.e-08 6.e-08 6.e-08 6.e-08 6.e-08 6.e-08\n",
            " 6.e-08 6.e-08 6.e-08 6.e-08 6.e-08 6.e-08 6.e-08 6.e-08 6.e-08 6.e-08\n",
            " 6.e-08 6.e-08 6.e-08 6.e-08 6.e-08 6.e-08 6.e-08 6.e-08 6.e-08 6.e-08\n",
            " 6.e-08 6.e-08 6.e-08 6.e-08 6.e-08 6.e-08 6.e-08 6.e-08 6.e-08 6.e-08\n",
            " 6.e-08 6.e-08 6.e-08 6.e-08 6.e-08 6.e-08 6.e-08 6.e-08 6.e-08 6.e-08\n",
            " 6.e-08 6.e-08 6.e-08 6.e-08 6.e-08 6.e-08 6.e-08 6.e-08 6.e-08 6.e-08\n",
            " 6.e-08 6.e-08 6.e-08 6.e-08 6.e-08 6.e-08 6.e-08 6.e-08 6.e-08 6.e-08\n",
            " 6.e-08 6.e-08 6.e-08 6.e-08 6.e-08 6.e-08 6.e-08 6.e-08 6.e-08 6.e-08\n",
            " 6.e-08 6.e-08 6.e-08 6.e-08 6.e-08 6.e-08 6.e-08 6.e-08 6.e-08 6.e-08\n",
            " 6.e-08 6.e-08 6.e-08 6.e-08 6.e-08 6.e-08 6.e-08 6.e-08 6.e-08 6.e-08\n",
            " 6.e-08 6.e-08 6.e-08 6.e-08 6.e-08 6.e-08 6.e-08 6.e-08 6.e-08 6.e-08]\n",
            "[-17.32867948 -17.32674175 -17.32478147 -17.32279837 -17.3207922\n",
            " -17.31876267 -17.31670953 -17.31463249 -17.31253128 -17.31040562\n",
            " -17.30825522 -17.30607979 -17.30387904 -17.30165268 -17.29940042\n",
            " -17.29712193 -17.29481694 -17.29248511 -17.29012615 -17.28773974\n",
            " -17.28532555 -17.28288327 -17.28041256 -17.2779131  -17.27538455\n",
            " -17.27282657 -17.27023883 -17.26762096 -17.26497264 -17.26229348\n",
            " -17.25958315 -17.25684128 -17.2540675  -17.25126143 -17.24842271\n",
            " -17.24555095 -17.24264577 -17.23970678 -17.23673359 -17.2337258\n",
            " -17.23068299 -17.22760478 -17.22449075 -17.22134047 -17.21815353\n",
            " -17.2149295  -17.21166794 -17.20836844 -17.20503053 -17.20165377\n",
            " -17.19823772 -17.19478191 -17.19128588 -17.18774916 -17.18417129\n",
            " -17.18055177 -17.17689013 -17.17318588 -17.16943852 -17.16564754\n",
            " -17.16181245 -17.15793272 -17.15400784 -17.15003729 -17.14602052\n",
            " -17.14195701 -17.1378462  -17.13368756 -17.12948052 -17.12522451\n",
            " -17.12091897 -17.11656333 -17.112157   -17.10769938 -17.10318989\n",
            " -17.09862791 -17.09401284 -17.08934407 -17.08462095 -17.07984288\n",
            " -17.07500919 -17.07011925 -17.0651724  -17.06016798 -17.05510531\n",
            " -17.04998373 -17.04480254 -17.03956106 -17.03425857 -17.02889438\n",
            " -17.02346775 -17.01797797 -17.0124243  -17.006806   -17.00112231\n",
            " -16.99537248 -16.98955572 -16.98367128 -16.97771835 -16.97169614\n",
            " -16.96560384 -16.95944064 -16.95320572 -16.94689823 -16.94051733\n",
            " -16.93406218 -16.9275319  -16.92092562 -16.91424246 -16.90748152\n",
            " -16.90064189 -16.89372267 -16.88672292 -16.87964171 -16.87247808\n",
            " -16.86523109 -16.85789975 -16.8504831  -16.84298013 -16.83538983\n",
            " -16.82771121 -16.81994322 -16.81208482 -16.80413497 -16.7960926\n",
            " -16.78795664 -16.77972598 -16.77139954 -16.7629762  -16.75445482\n",
            " -16.74583428 -16.73711341 -16.72829104 -16.719366   -16.71033709\n",
            " -16.7012031  -16.69196281 -16.68261499 -16.67315837 -16.6635917\n",
            " -16.65391369 -16.64412305 -16.63421846 -16.62419861 -16.61406214\n",
            " -16.60380771 -16.59343393 -16.58293943 -16.57232279 -16.56158259\n",
            " -16.5507174  -16.53972576 -16.52860621 -16.51735724 -16.50597735\n",
            " -16.49446503 -16.48281873 -16.47103689 -16.45911793 -16.44706026\n",
            " -16.43486226 -16.4225223  -16.41003873 -16.39740988 -16.38463405\n",
            " -16.37170954 -16.35863461 -16.34540751 -16.33202648 -16.31848972\n",
            " -16.30479542 -16.29094175 -16.27692685 -16.26274884 -16.24840583\n",
            " -16.2338959  -16.2192171  -16.20436746 -16.18934501 -16.17414773\n",
            " -16.15877358 -16.14322051 -16.12748643 -16.11156924 -16.0954668\n",
            " -16.07917696 -16.06269755 -16.04602634 -16.02916112 -16.01209962\n",
            " -15.99483956 -15.97737863 -15.95971448 -15.94184477 -15.92376708\n",
            " -15.90547901 -15.8869781  -15.86826187 -15.84932783 -15.83017343]\n"
          ]
        },
        {
          "output_type": "display_data",
          "data": {
            "text/plain": [
              "<Figure size 640x480 with 1 Axes>"
            ],
            "image/png": "[encoded data removed]"
          },
          "metadata": {}
        },
        {
          "output_type": "display_data",
          "data": {
            "text/plain": [
              "<Figure size 640x480 with 1 Axes>"
            ],
            "image/png": "[encoded data removed]"
          },
          "metadata": {}
        }
      ]
    }
  ]
}